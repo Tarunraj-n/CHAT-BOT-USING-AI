{
  "nbformat": 4,
  "nbformat_minor": 0,
  "metadata": {
    "colab": {
      "provenance": []
    },
    "kernelspec": {
      "name": "python3",
      "display_name": "Python 3"
    },
    "language_info": {
      "name": "python"
    }
  },
  "cells": [
    {
      "cell_type": "code",
      "source": [
        "import random\n",
        "import nltk\n",
        "from nltk.stem import WordNetLemmatizer\n",
        "nltk.download('punkt')\n",
        "nltk.download('wordnet')\n",
        "nltk.download('omw')"
      ],
      "metadata": {
        "colab": {
          "base_uri": "https://localhost:8080/"
        },
        "id": "Hpby9QYCuAoo",
        "outputId": "638000bf-cd6f-4690-9d14-400abfeda054"
      },
      "execution_count": 1,
      "outputs": [
        {
          "output_type": "stream",
          "name": "stderr",
          "text": [
            "[nltk_data] Downloading package punkt to /root/nltk_data...\n",
            "[nltk_data]   Unzipping tokenizers/punkt.zip.\n",
            "[nltk_data] Downloading package wordnet to /root/nltk_data...\n",
            "[nltk_data] Downloading package omw to /root/nltk_data...\n"
          ]
        },
        {
          "output_type": "execute_result",
          "data": {
            "text/plain": [
              "True"
            ]
          },
          "metadata": {},
          "execution_count": 1
        }
      ]
    },
    {
      "cell_type": "code",
      "source": [
        "# Preprocess the user's message\n",
        "def preprocess_message(message):\n",
        "    words = nltk.word_tokenize(message)\n",
        "    lemmatizer = WordNetLemmatizer()\n",
        "    words = [lemmatizer.lemmatize(word) for word in words]\n",
        "    return words\n",
        "\n",
        "# Extract the intent from the user's message\n",
        "def extract_intent(words):\n",
        "    # Define the intents and their corresponding patterns\n",
        "    intents = {\n",
        "        'greet': [['hi', 'hello', 'hey']],\n",
        "        'goodbye': [['bye', 'goodbye', 'see you']],\n",
        "        'ask_time': [['time', 'clock']],\n",
        "        'ask_weather': [['weather', 'forecast']]\n",
        "    }\n",
        "    # Initialize the intent score to 0\n",
        "    intent_score = 0\n",
        "    # Loop through each intent and compute the score\n",
        "    for intent in intents:\n",
        "        for pattern in intents[intent]:\n",
        "            pattern_score = 0\n",
        "            for word in words:\n",
        "                if word in pattern:\n",
        "                    pattern_score += 1\n",
        "            intent_score = max(intent_score, pattern_score)\n",
        "    # Return the intent with the highest score\n",
        "    if intent_score > 0:\n",
        "        for intent in intents:\n",
        "            if intent_score == intents[intent][0].count(words[0]):\n",
        "                return intent\n",
        "    else:\n",
        "        return 'unknown'\n",
        "\n",
        "# Generate the response for the given intent\n",
        "def generate_response(intent):\n",
        "    # Define the responses for each intent\n",
        "    responses = {\n",
        "        'greet': ['Hello!', 'Hi there!', 'Hey!'],\n",
        "        'goodbye': ['Goodbye!', 'See you later!', 'Bye!'],\n",
        "        'ask_time': ['The current time is 3:00 PM.'],\n",
        "        'ask_weather': ['The weather today is sunny with a high of 75 degrees.']\n",
        "    }\n",
        "    # Return a random response for the given intent\n",
        "    return random.choice(responses[intent])\n",
        "\n",
        "# Handle the user's message\n",
        "def handle_message(message):\n",
        "    # Preprocess the message\n",
        "    words = preprocess_message(message)\n",
        "    # Extract the intent\n",
        "    intent = extract_intent(words)\n",
        "    # Generate the response\n",
        "    response = generate_response(intent)\n",
        "    # Return the response\n",
        "    return response"
      ],
      "metadata": {
        "id": "c_LgjaN5uAmo"
      },
      "execution_count": 2,
      "outputs": []
    },
    {
      "cell_type": "code",
      "source": [
        "# Test the chatbot\n",
        "while True:\n",
        "    user_message = input('You: ')\n",
        "    if user_message.lower() == 'quit':\n",
        "        break\n",
        "    ai_message = handle_message(user_message)\n",
        "    print('AI: ', ai_message)"
      ],
      "metadata": {
        "colab": {
          "base_uri": "https://localhost:8080/"
        },
        "id": "C6U9zlZIuAj6",
        "outputId": "df8e88a7-2cd8-4619-a72f-d01daf979cfc"
      },
      "execution_count": null,
      "outputs": [
        {
          "output_type": "stream",
          "name": "stdout",
          "text": [
            "You: hi\n",
            "AI:  Hey!\n",
            "You: bye\n",
            "AI:  Goodbye!\n",
            "You: time\n",
            "AI:  The current time is 3:00 PM.\n",
            "You: weather\n",
            "AI:  The weather today is sunny with a high of 75 degrees.\n"
          ]
        }
      ]
    },
    {
      "cell_type": "code",
      "source": [],
      "metadata": {
        "id": "dPZTKXubuAhZ"
      },
      "execution_count": null,
      "outputs": []
    },
    {
      "cell_type": "code",
      "source": [],
      "metadata": {
        "id": "6XC4MTcOuAdG"
      },
      "execution_count": null,
      "outputs": []
    }
  ]
}